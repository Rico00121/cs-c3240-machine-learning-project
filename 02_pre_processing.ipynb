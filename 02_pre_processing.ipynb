{
 "cells": [
  {
   "cell_type": "code",
   "execution_count": 166,
   "id": "77220a38-a7b5-442f-bf98-5d177b82b190",
   "metadata": {},
   "outputs": [],
   "source": [
    "import pandas as pd\n",
    "import numpy as np\n",
    "import calendar"
   ]
  },
  {
   "cell_type": "code",
   "execution_count": 167,
   "id": "d630fa86-2c77-4d8f-8884-1eeccf22042e",
   "metadata": {},
   "outputs": [],
   "source": [
    "df = pd.read_csv('data/sp500_index.csv')\n",
    "df[\"Date\"] = pd.to_datetime(df[\"Date\"])\n",
    "df = df.set_index(\"Date\").sort_index()"
   ]
  },
  {
   "cell_type": "code",
   "execution_count": 168,
   "id": "74d9f740-ca17-4b89-9a9b-cd2efd383c85",
   "metadata": {
    "scrolled": true
   },
   "outputs": [
    {
     "name": "stdout",
     "output_type": "stream",
     "text": [
      "             S&P500\n",
      "Date               \n",
      "2014-12-22  2078.54\n",
      "2014-12-23  2082.17\n",
      "2014-12-24  2081.88\n",
      "2014-12-26  2088.77\n",
      "2014-12-29  2090.57\n",
      "S&P500    float64\n",
      "dtype: object\n"
     ]
    }
   ],
   "source": [
    "print(df.head())\n",
    "print(df.dtypes)"
   ]
  },
  {
   "cell_type": "code",
   "execution_count": 169,
   "id": "149ce356-28d8-4823-af94-30ec83628116",
   "metadata": {},
   "outputs": [],
   "source": [
    "# Calculate daily returns\n",
    "df[\"Return\"] = df[\"S&P500\"].pct_change()"
   ]
  },
  {
   "cell_type": "code",
   "execution_count": 171,
   "id": "c3adce42-658e-45ed-b223-75e80f79112a",
   "metadata": {},
   "outputs": [],
   "source": [
    "# 1. Construct monthly features\n",
    "monthly = pd.DataFrame()\n",
    "monthly[\"Month_start\"] = df[\"S&P500\"].resample(\"ME\").first()\n",
    "monthly[\"Month_end\"]   = df[\"S&P500\"].resample(\"ME\").last()\n",
    "monthly[\"High\"]        = df[\"S&P500\"].resample(\"ME\").max()\n",
    "monthly[\"Low\"]         = df[\"S&P500\"].resample(\"ME\").min()\n",
    "monthly[\"Year\"] = monthly.index.year"
   ]
  },
  {
   "cell_type": "code",
   "execution_count": 172,
   "id": "a003976c-da21-422e-b83b-8102becf470d",
   "metadata": {},
   "outputs": [],
   "source": [
    "# Previous month return\n",
    "monthly[\"Return_prev_month\"] = (monthly[\"Month_end\"] - monthly[\"Month_start\"]) / monthly[\"Month_start\"]"
   ]
  },
  {
   "cell_type": "code",
   "execution_count": 173,
   "id": "38f06482-ceae-43fc-bd9e-fc8b9a2cf786",
   "metadata": {},
   "outputs": [],
   "source": [
    "# Previous month volatility (based on daily returns)\n",
    "monthly[\"Volatility_prev_month\"] = df[\"Return\"].resample(\"ME\").std()"
   ]
  },
  {
   "cell_type": "code",
   "execution_count": 174,
   "id": "294438a7-c6bc-4157-ae1b-dcd941687df1",
   "metadata": {},
   "outputs": [],
   "source": [
    "# Previous month high-low range\n",
    "monthly[\"Range_prev_month\"] = monthly[\"High\"] - monthly[\"Low\"]"
   ]
  },
  {
   "cell_type": "code",
   "execution_count": 175,
   "id": "7fd2be9a-a971-440d-92cf-502812128603",
   "metadata": {},
   "outputs": [
    {
     "name": "stdout",
     "output_type": "stream",
     "text": [
      "            Month_start  Month_end     High      Low  Year  Return_prev_month  \\\n",
      "Date                                                                            \n",
      "2015-05-31      2108.29    2107.39  2130.82  2080.15  2015          -0.000427   \n",
      "2015-06-30      2111.73    2063.11  2124.20  2057.64  2015          -0.023024   \n",
      "2015-07-31      2077.42    2103.84  2128.28  2046.68  2015           0.012718   \n",
      "2015-08-31      2098.04    1972.18  2104.18  1867.61  2015          -0.059989   \n",
      "2015-09-30      1913.85    1920.03  1995.31  1881.77  2015           0.003229   \n",
      "\n",
      "            Volatility_prev_month  Range_prev_month  MA5d_minus_MA20d  \\\n",
      "Date                                                                    \n",
      "2015-05-31               0.006810             50.67            4.4405   \n",
      "2015-06-30               0.007012             66.56          -11.5195   \n",
      "2015-07-31               0.007372             81.60            0.5380   \n",
      "2015-08-31               0.016831            236.57          -85.5915   \n",
      "2015-09-30               0.014185            113.54          -36.0360   \n",
      "\n",
      "                   MA3m  ...  February  January   July   June  March    May  \\\n",
      "Date                     ...                                                  \n",
      "2015-05-31  2086.930000  ...     False    False  False  False  False   True   \n",
      "2015-06-30  2085.336667  ...     False    False  False   True  False  False   \n",
      "2015-07-31  2091.446667  ...     False    False   True  False  False  False   \n",
      "2015-08-31  2046.376667  ...     False    False  False  False  False  False   \n",
      "2015-09-30  1998.683333  ...     False    False  False  False  False  False   \n",
      "\n",
      "            November  October  September  Label_next_month  \n",
      "Date                                                        \n",
      "2015-05-31     False    False      False         -0.023024  \n",
      "2015-06-30     False    False      False          0.012718  \n",
      "2015-07-31     False    False      False         -0.059989  \n",
      "2015-08-31     False    False      False          0.003229  \n",
      "2015-09-30     False    False       True          0.080850  \n",
      "\n",
      "[5 rows x 25 columns]\n"
     ]
    }
   ],
   "source": [
    "# 2. Moving average features ===\n",
    "# Daily moving averages (5-day, 20-day), take the last value of each month\n",
    "df[\"MA5d\"] = df[\"S&P500\"].rolling(5).mean()\n",
    "df[\"MA20d\"] = df[\"S&P500\"].rolling(20).mean()\n",
    "monthly[\"MA5d_minus_MA20d\"] = (df[\"MA5d\"] - df[\"MA20d\"]).resample(\"ME\").last()\n",
    "\n",
    "# Monthly moving averages (3 months, 6 months)\n",
    "monthly[\"MA3m\"] = monthly[\"Month_end\"].rolling(3).mean()\n",
    "monthly[\"MA6m\"] = monthly[\"Month_end\"].rolling(6).mean()\n",
    "monthly[\"MA3m_minus_MA6m\"] = monthly[\"MA3m\"] - monthly[\"MA6m\"]\n",
    "\n",
    "# 3. Time Features\n",
    "monthly[\"Year\"] = monthly.index.year\n",
    "monthly[\"Month\"] = monthly.index.month\n",
    "monthly[\"Month\"] = monthly.index.month.map(lambda x: calendar.month_name[x])\n",
    "dummies = pd.get_dummies(monthly[\"Month\"])\n",
    "monthly = pd.concat([monthly, dummies], axis=1).drop(columns=[\"Month\"])\n",
    "\n",
    "# 4. Label: Next month's return\n",
    "monthly[\"Label_next_month\"] = monthly[\"Return_prev_month\"].shift(-1)\n",
    "\n",
    "# Drop the last month (no label available)\n",
    "monthly = monthly.dropna()\n",
    "\n",
    "print(monthly.head())"
   ]
  },
  {
   "cell_type": "code",
   "execution_count": 176,
   "id": "1f98d458-294c-4925-a21c-667662f9bbac",
   "metadata": {},
   "outputs": [
    {
     "name": "stdout",
     "output_type": "stream",
     "text": [
      "       Month_start    Month_end         High          Low         Year  \\\n",
      "count   115.000000   115.000000   115.000000   115.000000   115.000000   \n",
      "mean   3359.621130  3388.974870  3466.601304  3267.279043  2019.617391   \n",
      "std    1040.994727  1064.993842  1082.298827  1019.182374     2.789651   \n",
      "min    1913.850000  1920.030000  1951.700000  1829.080000  2015.000000   \n",
      "25%    2476.450000  2513.105000  2550.215000  2422.465000  2017.000000   \n",
      "50%    3066.910000  3044.310000  3153.630000  2964.330000  2020.000000   \n",
      "75%    4197.350000  4187.485000  4302.685000  4090.205000  2022.000000   \n",
      "max    5728.800000  6032.380000  6032.380000  5712.690000  2024.000000   \n",
      "\n",
      "       Return_prev_month  Volatility_prev_month  Range_prev_month  \\\n",
      "count         115.000000             115.000000        115.000000   \n",
      "mean            0.008778               0.009386        199.322261   \n",
      "std             0.046372               0.006436        137.661515   \n",
      "min            -0.163625               0.002918         33.120000   \n",
      "25%            -0.010676               0.005511         90.130000   \n",
      "50%             0.010953               0.007673        168.730000   \n",
      "75%             0.036962               0.011690        266.120000   \n",
      "max             0.178883               0.058850        892.720000   \n",
      "\n",
      "       MA5d_minus_MA20d         MA3m         MA6m  MA3m_minus_MA6m  \\\n",
      "count        115.000000   115.000000   115.000000       115.000000   \n",
      "mean           7.534796  3355.550812  3307.773783        47.777029   \n",
      "std           68.075901  1039.561814  1007.337437        95.663513   \n",
      "min         -195.212000  1972.136667  1999.368333      -228.406667   \n",
      "25%          -15.125000  2504.596667  2462.708333         5.521667   \n",
      "50%           16.092500  3019.010000  3000.646667        48.783333   \n",
      "75%           43.190000  4246.211667  4169.987500        97.382500   \n",
      "max          179.467500  5833.436667  5688.581667       277.473333   \n",
      "\n",
      "       Label_next_month  \n",
      "count        115.000000  \n",
      "mean           0.008615  \n",
      "std            0.046438  \n",
      "min           -0.163625  \n",
      "25%           -0.012489  \n",
      "50%            0.010953  \n",
      "75%            0.036962  \n",
      "max            0.178883  \n"
     ]
    }
   ],
   "source": [
    "print(monthly.describe())"
   ]
  },
  {
   "cell_type": "code",
   "execution_count": 177,
   "id": "c8db3bba-1915-4967-bccd-7dc429b12271",
   "metadata": {},
   "outputs": [],
   "source": [
    "monthly.to_csv(\"monthly_features.csv\", index=True)"
   ]
  },
  {
   "cell_type": "code",
   "execution_count": null,
   "id": "432820c9-ec43-4a22-883e-19c3060872f7",
   "metadata": {},
   "outputs": [],
   "source": []
  },
  {
   "cell_type": "code",
   "execution_count": null,
   "id": "d687130b-7f0e-4143-a1f4-0b08195db9f8",
   "metadata": {},
   "outputs": [],
   "source": []
  }
 ],
 "metadata": {
  "kernelspec": {
   "display_name": "Python 3 (ipykernel)",
   "language": "python",
   "name": "python3"
  },
  "language_info": {
   "codemirror_mode": {
    "name": "ipython",
    "version": 3
   },
   "file_extension": ".py",
   "mimetype": "text/x-python",
   "name": "python",
   "nbconvert_exporter": "python",
   "pygments_lexer": "ipython3",
   "version": "3.10.8"
  }
 },
 "nbformat": 4,
 "nbformat_minor": 5
}

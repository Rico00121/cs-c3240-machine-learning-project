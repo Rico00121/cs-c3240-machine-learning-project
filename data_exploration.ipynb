{
 "cells": [
  {
   "cell_type": "markdown",
   "metadata": {},
   "source": [
    "# SP 500 Dataset Exploration\n",
    "\n",
    "We use this notebook to explore the downloaded SP 500 stock dataset."
   ]
  },
  {
   "cell_type": "code",
   "execution_count": 13,
   "metadata": {},
   "outputs": [],
   "source": [
    "import pandas as pd\n",
    "\n",
    "df = pd.read_csv(\"monthly_features.csv\", parse_dates=[\"Date\"], index_col=\"Date\")"
   ]
  },
  {
   "cell_type": "code",
   "execution_count": 15,
   "metadata": {},
   "outputs": [
    {
     "name": "stdout",
     "output_type": "stream",
     "text": [
      "            Month_start  Month_end     High      Low  Return_prev_month  \\\n",
      "Date                                                                      \n",
      "2015-05-31      2108.29    2107.39  2130.82  2080.15          -0.000427   \n",
      "2015-06-30      2111.73    2063.11  2124.20  2057.64          -0.023024   \n",
      "2015-07-31      2077.42    2103.84  2128.28  2046.68           0.012718   \n",
      "2015-08-31      2098.04    1972.18  2104.18  1867.61          -0.059989   \n",
      "2015-09-30      1913.85    1920.03  1995.31  1881.77           0.003229   \n",
      "\n",
      "            Volatility_prev_month  Range_prev_month  MA5d_minus_MA20d  \\\n",
      "Date                                                                    \n",
      "2015-05-31               0.006810             50.67            4.4405   \n",
      "2015-06-30               0.007012             66.56          -11.5195   \n",
      "2015-07-31               0.007372             81.60            0.5380   \n",
      "2015-08-31               0.016831            236.57          -85.5915   \n",
      "2015-09-30               0.014185            113.54          -36.0360   \n",
      "\n",
      "                   MA3m         MA6m  ...  Month_4  Month_5  Month_6  Month_7  \\\n",
      "Date                                  ...                                       \n",
      "2015-05-31  2086.930000  2069.863333  ...    False     True    False    False   \n",
      "2015-06-30  2085.336667  2070.565000  ...    False    False     True    False   \n",
      "2015-07-31  2091.446667  2088.706667  ...    False    False    False     True   \n",
      "2015-08-31  2046.376667  2066.653333  ...    False    False    False    False   \n",
      "2015-09-30  1998.683333  2042.010000  ...    False    False    False    False   \n",
      "\n",
      "            Month_8  Month_9  Month_10  Month_11  Month_12  Label_next_month  \n",
      "Date                                                                          \n",
      "2015-05-31    False    False     False     False     False         -0.023024  \n",
      "2015-06-30    False    False     False     False     False          0.012718  \n",
      "2015-07-31    False    False     False     False     False         -0.059989  \n",
      "2015-08-31     True    False     False     False     False          0.003229  \n",
      "2015-09-30    False     True     False     False     False          0.080850  \n",
      "\n",
      "[5 rows x 25 columns]\n"
     ]
    }
   ],
   "source": [
    "print(df.head())"
   ]
  },
  {
   "cell_type": "code",
   "execution_count": 16,
   "metadata": {},
   "outputs": [
    {
     "name": "stdout",
     "output_type": "stream",
     "text": [
      "['Month_start', 'Month_end', 'High', 'Low', 'Return_prev_month', 'Volatility_prev_month', 'Range_prev_month', 'MA5d_minus_MA20d', 'MA3m', 'MA6m', 'MA3m_minus_MA6m', 'Year', 'Month_1', 'Month_2', 'Month_3', 'Month_4', 'Month_5', 'Month_6', 'Month_7', 'Month_8', 'Month_9', 'Month_10', 'Month_11', 'Month_12', 'Label_next_month']\n"
     ]
    }
   ],
   "source": [
    "print(df.columns.tolist())"
   ]
  },
  {
   "cell_type": "code",
   "execution_count": 18,
   "metadata": {},
   "outputs": [
    {
     "name": "stdout",
     "output_type": "stream",
     "text": [
      "\n",
      "SP500 指数:\n",
      "            Month_start  Month_end     High      Low  Return_prev_month  \\\n",
      "Date                                                                      \n",
      "2015-05-31      2108.29    2107.39  2130.82  2080.15          -0.000427   \n",
      "2015-06-30      2111.73    2063.11  2124.20  2057.64          -0.023024   \n",
      "2015-07-31      2077.42    2103.84  2128.28  2046.68           0.012718   \n",
      "2015-08-31      2098.04    1972.18  2104.18  1867.61          -0.059989   \n",
      "2015-09-30      1913.85    1920.03  1995.31  1881.77           0.003229   \n",
      "\n",
      "            Volatility_prev_month  Range_prev_month  MA5d_minus_MA20d  \\\n",
      "Date                                                                    \n",
      "2015-05-31               0.006810             50.67            4.4405   \n",
      "2015-06-30               0.007012             66.56          -11.5195   \n",
      "2015-07-31               0.007372             81.60            0.5380   \n",
      "2015-08-31               0.016831            236.57          -85.5915   \n",
      "2015-09-30               0.014185            113.54          -36.0360   \n",
      "\n",
      "                   MA3m         MA6m  ...  Month_4  Month_5  Month_6  Month_7  \\\n",
      "Date                                  ...                                       \n",
      "2015-05-31  2086.930000  2069.863333  ...    False     True    False    False   \n",
      "2015-06-30  2085.336667  2070.565000  ...    False    False     True    False   \n",
      "2015-07-31  2091.446667  2088.706667  ...    False    False    False     True   \n",
      "2015-08-31  2046.376667  2066.653333  ...    False    False    False    False   \n",
      "2015-09-30  1998.683333  2042.010000  ...    False    False    False    False   \n",
      "\n",
      "            Month_8  Month_9  Month_10  Month_11  Month_12  Label_next_month  \n",
      "Date                                                                          \n",
      "2015-05-31    False    False     False     False     False         -0.023024  \n",
      "2015-06-30    False    False     False     False     False          0.012718  \n",
      "2015-07-31    False    False     False     False     False         -0.059989  \n",
      "2015-08-31     True    False     False     False     False          0.003229  \n",
      "2015-09-30    False     True     False     False     False          0.080850  \n",
      "\n",
      "[5 rows x 25 columns]\n",
      "数据形状: (115, 25)\n"
     ]
    }
   ],
   "source": [
    "print(\"\\nSP500 指数:\")\n",
    "print(df.head())\n",
    "print(f\"数据形状: {df.shape}\")"
   ]
  },
  {
   "cell_type": "code",
   "execution_count": null,
   "metadata": {},
   "outputs": [],
   "source": []
  }
 ],
 "metadata": {
  "kernelspec": {
   "display_name": "cs-3240",
   "language": "python",
   "name": "uv-env-for-cs-3240"
  },
  "language_info": {
   "codemirror_mode": {
    "name": "ipython",
    "version": 3
   },
   "file_extension": ".py",
   "mimetype": "text/x-python",
   "name": "python",
   "nbconvert_exporter": "python",
   "pygments_lexer": "ipython3",
   "version": "3.10.16"
  }
 },
 "nbformat": 4,
 "nbformat_minor": 4
}

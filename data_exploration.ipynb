{
 "cells": [
  {
   "cell_type": "markdown",
   "metadata": {},
   "source": [
    "# SP 500 Dataset Exploration\n",
    "\n",
    "We use this notebook to explore the downloaded SP 500 stock dataset."
   ]
  },
  {
   "cell_type": "code",
   "execution_count": 1,
   "metadata": {},
   "outputs": [],
   "source": [
    "import pandas as pd\n",
    "\n",
    "stocks_df = pd.read_csv('data/sp500_stocks.csv')\n",
    "companies_df = pd.read_csv('data/sp500_companies.csv')\n",
    "index_df = pd.read_csv('data/sp500_index.csv')"
   ]
  },
  {
   "cell_type": "code",
   "execution_count": 3,
   "metadata": {},
   "outputs": [
    {
     "name": "stdout",
     "output_type": "stream",
     "text": [
      "         Date Symbol  Adj Close  Close  High  Low  Open  Volume\n",
      "0  2010-01-04    MMM        NaN    NaN   NaN  NaN   NaN     NaN\n",
      "1  2010-01-05    MMM        NaN    NaN   NaN  NaN   NaN     NaN\n",
      "2  2010-01-06    MMM        NaN    NaN   NaN  NaN   NaN     NaN\n",
      "3  2010-01-07    MMM        NaN    NaN   NaN  NaN   NaN     NaN\n",
      "4  2010-01-08    MMM        NaN    NaN   NaN  NaN   NaN     NaN\n"
     ]
    }
   ],
   "source": [
    "print(stocks_df.head())"
   ]
  },
  {
   "cell_type": "code",
   "execution_count": 4,
   "metadata": {},
   "outputs": [
    {
     "name": "stdout",
     "output_type": "stream",
     "text": [
      "  Exchange Symbol              Shortname               Longname  \\\n",
      "0      NMS   AAPL             Apple Inc.             Apple Inc.   \n",
      "1      NMS   NVDA     NVIDIA Corporation     NVIDIA Corporation   \n",
      "2      NMS   MSFT  Microsoft Corporation  Microsoft Corporation   \n",
      "3      NMS   AMZN       Amazon.com, Inc.       Amazon.com, Inc.   \n",
      "4      NMS  GOOGL          Alphabet Inc.          Alphabet Inc.   \n",
      "\n",
      "                   Sector                        Industry  Currentprice  \\\n",
      "0              Technology            Consumer Electronics        254.49   \n",
      "1              Technology                  Semiconductors        134.70   \n",
      "2              Technology       Software - Infrastructure        436.60   \n",
      "3       Consumer Cyclical                 Internet Retail        224.92   \n",
      "4  Communication Services  Internet Content & Information        191.41   \n",
      "\n",
      "       Marketcap        Ebitda  Revenuegrowth           City State  \\\n",
      "0  3846819807232  1.346610e+11          0.061      Cupertino    CA   \n",
      "1  3298803056640  6.118400e+10          1.224    Santa Clara    CA   \n",
      "2  3246068596736  1.365520e+11          0.160        Redmond    WA   \n",
      "3  2365033807872  1.115830e+11          0.110        Seattle    WA   \n",
      "4  2351625142272  1.234700e+11          0.151  Mountain View    CA   \n",
      "\n",
      "         Country  Fulltimeemployees  \\\n",
      "0  United States           164000.0   \n",
      "1  United States            29600.0   \n",
      "2  United States           228000.0   \n",
      "3  United States          1551000.0   \n",
      "4  United States           181269.0   \n",
      "\n",
      "                                 Longbusinesssummary    Weight  \n",
      "0  Apple Inc. designs, manufactures, and markets ...  0.069209  \n",
      "1  NVIDIA Corporation provides graphics and compu...  0.059350  \n",
      "2  Microsoft Corporation develops and supports so...  0.058401  \n",
      "3  Amazon.com, Inc. engages in the retail sale of...  0.042550  \n",
      "4  Alphabet Inc. offers various products and plat...  0.042309  \n"
     ]
    }
   ],
   "source": [
    "print(companies_df.head())"
   ]
  },
  {
   "cell_type": "code",
   "execution_count": 5,
   "metadata": {},
   "outputs": [
    {
     "name": "stdout",
     "output_type": "stream",
     "text": [
      "         Date   S&P500\n",
      "0  2014-12-22  2078.54\n",
      "1  2014-12-23  2082.17\n",
      "2  2014-12-24  2081.88\n",
      "3  2014-12-26  2088.77\n",
      "4  2014-12-29  2090.57\n"
     ]
    }
   ],
   "source": [
    "print(index_df.head())"
   ]
  },
  {
   "cell_type": "code",
   "execution_count": null,
   "metadata": {},
   "outputs": [],
   "source": []
  }
 ],
 "metadata": {
  "kernelspec": {
   "display_name": "cs-3240",
   "language": "python",
   "name": "uv-env-for-cs-3240"
  },
  "language_info": {
   "codemirror_mode": {
    "name": "ipython",
    "version": 3
   },
   "file_extension": ".py",
   "mimetype": "text/x-python",
   "name": "python",
   "nbconvert_exporter": "python",
   "pygments_lexer": "ipython3",
   "version": "3.10.16"
  }
 },
 "nbformat": 4,
 "nbformat_minor": 4
}
